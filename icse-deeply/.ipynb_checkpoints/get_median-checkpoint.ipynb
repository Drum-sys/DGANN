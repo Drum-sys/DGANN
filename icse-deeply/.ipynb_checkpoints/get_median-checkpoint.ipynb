{
 "cells": [
  {
   "cell_type": "code",
   "execution_count": 16,
   "id": "05c57d0b",
   "metadata": {},
   "outputs": [],
   "source": [
    "import numpy as np\n",
    "import pandas as pd\n",
    "import os"
   ]
  },
  {
   "cell_type": "code",
   "execution_count": 2,
   "id": "6d2f29ea-6ef6-453e-8442-34e16194df5e",
   "metadata": {},
   "outputs": [],
   "source": [
    "df = pd.read_csv(\"./additional-files/output/deeply-lossless/GAT/slurm-1652925074.0449772.csv\")\n",
    "data = df[df['Loss[-]'] == df['Loss[-]'].min()].iloc[0,2:5]\n",
    "             "
   ]
  },
  {
   "cell_type": "code",
   "execution_count": 33,
   "id": "4176048e-31db-4421-9ced-516c0aa7e157",
   "metadata": {},
   "outputs": [],
   "source": [
    "datasets = ['jpetstore', 'plants', 'acmeair']\n",
    "def get_our_lossless_results(dataset: str):\n",
    "    path = \"./additional-files/output/deeply-lossless/GAT/\"\n",
    "    results = {x: [] for x in datasets}\n",
    "    for file in os.listdir(path):\n",
    "        df = pd.read_csv(path + file)\n",
    "        r = {x: [] for x in datasets}\n",
    "        [r['acmeair'], r['jpetstore'], r['plants']] = [df[0:100],df[100:200],df[200:300]]\n",
    "        results[dataset].append(r[dataset][r[dataset]['Loss[-]'] == r[dataset]['Loss[-]'].min()].iloc[0,2:9])\n",
    "    return pd.concat(results[dataset], axis=1).T"
   ]
  },
  {
   "cell_type": "code",
   "execution_count": 34,
   "id": "e96b2bc9-75a0-4a03-94dc-ca00585797d5",
   "metadata": {},
   "outputs": [
    {
     "name": "stdout",
     "output_type": "stream",
     "text": [
      "jpetstore\n",
      "    BCS[-] ICP[-]  SM[+]  MQ[+] IFN[-] NED[-]        ClassSizes\n",
      "120  2.347  0.031  0.256  2.981  0.667      1        [33  2  2]\n",
      "119  1.492   0.01  0.095  1.991  0.333      1        [34  1  2]\n",
      "117  2.497   0.09  0.252  3.636      1      1     [31  2  2  2]\n",
      "182  2.765  0.092  0.271  2.534      2      1        [32  2  3]\n",
      "156  2.701  0.103   0.18  2.256      2      1        [ 3 31  3]\n",
      "107  2.347  0.031  0.256  2.981  0.667      1        [33  2  2]\n",
      "174  2.387  0.162  0.264  4.176    1.8      1  [28  2  3  2  2]\n",
      "116  2.347  0.031  0.256  2.981  0.667      1        [33  2  2]\n",
      "116  2.347  0.031  0.256  2.981  0.667      1        [33  2  2]\n",
      "198  2.765  0.092  0.271  2.534      2      1        [32  2  3]\n",
      "165  2.347  0.031  0.256  2.981  0.667      1        [33  2  2]\n",
      "126  2.347  0.031  0.256  2.981  0.667      1        [33  2  2]\n",
      "194  2.765  0.092  0.271  2.534      2      1        [32  2  3]\n",
      "105  2.209  0.101  0.249  3.626   1.25      1     [31  2  2  2]\n",
      "111  2.347  0.031  0.256  2.981  0.667      1        [33  2  2]\n",
      "149  2.347  0.031  0.256  2.981  0.667      1        [33  2  2]\n",
      "165  2.347  0.031  0.256  2.981  0.667      1        [33  2  2]\n",
      "131  2.635  0.081  0.247  3.959      1      1     [30  2  3  2]\n",
      "175  2.765  0.092  0.271  2.534      2      1        [32  2  3]\n",
      "195  2.347  0.031  0.256  2.981  0.667      1        [33  2  2]\n",
      "jpetstore======\n",
      "metric:BCS[-], mediadatan:2.347\n",
      "\n",
      "metric:ICP[-], mediadatan:0.031\n",
      "\n",
      "metric:SM[+], mediadatan:0.256\n",
      "\n",
      "metric:MQ[+], mediadatan:2.9810000000000003\n",
      "\n",
      "metric:IFN[-], mediadatan:0.667\n",
      "\n",
      "metric:NED[-], mediadatan:1.0\n",
      "\n"
     ]
    },
    {
     "ename": "TypeError",
     "evalue": "ufunc 'true_divide' not supported for the input types, and the inputs could not be safely coerced to any supported types according to the casting rule ''safe''",
     "output_type": "error",
     "traceback": [
      "\u001b[1;31m---------------------------------------------------------------------------\u001b[0m",
      "\u001b[1;31mTypeError\u001b[0m                                 Traceback (most recent call last)",
      "\u001b[1;32m~\\AppData\\Local\\Temp\\ipykernel_27304\\148306704.py\u001b[0m in \u001b[0;36m<module>\u001b[1;34m\u001b[0m\n\u001b[0;32m      4\u001b[0m     \u001b[0mprint\u001b[0m\u001b[1;33m(\u001b[0m\u001b[1;34m\"{}======\"\u001b[0m\u001b[1;33m.\u001b[0m\u001b[0mformat\u001b[0m\u001b[1;33m(\u001b[0m\u001b[0mx\u001b[0m\u001b[1;33m)\u001b[0m\u001b[1;33m)\u001b[0m\u001b[1;33m\u001b[0m\u001b[1;33m\u001b[0m\u001b[0m\n\u001b[0;32m      5\u001b[0m     \u001b[1;32mfor\u001b[0m \u001b[0mmetric\u001b[0m \u001b[1;32min\u001b[0m \u001b[0mdata\u001b[0m\u001b[1;33m.\u001b[0m\u001b[0mcolumns\u001b[0m\u001b[1;33m:\u001b[0m\u001b[1;33m\u001b[0m\u001b[1;33m\u001b[0m\u001b[0m\n\u001b[1;32m----> 6\u001b[1;33m         \u001b[0mmedian\u001b[0m \u001b[1;33m=\u001b[0m \u001b[0mnp\u001b[0m\u001b[1;33m.\u001b[0m\u001b[0mmedian\u001b[0m\u001b[1;33m(\u001b[0m\u001b[0mdata\u001b[0m\u001b[1;33m[\u001b[0m\u001b[0mmetric\u001b[0m\u001b[1;33m]\u001b[0m\u001b[1;33m.\u001b[0m\u001b[0mvalues\u001b[0m\u001b[1;33m)\u001b[0m\u001b[1;33m\u001b[0m\u001b[1;33m\u001b[0m\u001b[0m\n\u001b[0m\u001b[0;32m      7\u001b[0m \u001b[1;33m\u001b[0m\u001b[0m\n\u001b[0;32m      8\u001b[0m         \u001b[0mprint\u001b[0m\u001b[1;33m(\u001b[0m\u001b[1;34m\"metric:{}, mediadatan:{}\\n\"\u001b[0m\u001b[1;33m.\u001b[0m\u001b[0mformat\u001b[0m\u001b[1;33m(\u001b[0m\u001b[0mmetric\u001b[0m\u001b[1;33m,\u001b[0m \u001b[0mmedian\u001b[0m\u001b[1;33m)\u001b[0m \u001b[1;33m)\u001b[0m\u001b[1;33m\u001b[0m\u001b[1;33m\u001b[0m\u001b[0m\n",
      "\u001b[1;32m<__array_function__ internals>\u001b[0m in \u001b[0;36mmedian\u001b[1;34m(*args, **kwargs)\u001b[0m\n",
      "\u001b[1;32mC:\\anaconda\\envs\\GNNs\\lib\\site-packages\\numpy\\lib\\function_base.py\u001b[0m in \u001b[0;36mmedian\u001b[1;34m(a, axis, out, overwrite_input, keepdims)\u001b[0m\n\u001b[0;32m   3654\u001b[0m     \"\"\"\n\u001b[0;32m   3655\u001b[0m     r, k = _ureduce(a, func=_median, axis=axis, out=out,\n\u001b[1;32m-> 3656\u001b[1;33m                     overwrite_input=overwrite_input)\n\u001b[0m\u001b[0;32m   3657\u001b[0m     \u001b[1;32mif\u001b[0m \u001b[0mkeepdims\u001b[0m\u001b[1;33m:\u001b[0m\u001b[1;33m\u001b[0m\u001b[1;33m\u001b[0m\u001b[0m\n\u001b[0;32m   3658\u001b[0m         \u001b[1;32mreturn\u001b[0m \u001b[0mr\u001b[0m\u001b[1;33m.\u001b[0m\u001b[0mreshape\u001b[0m\u001b[1;33m(\u001b[0m\u001b[0mk\u001b[0m\u001b[1;33m)\u001b[0m\u001b[1;33m\u001b[0m\u001b[1;33m\u001b[0m\u001b[0m\n",
      "\u001b[1;32mC:\\anaconda\\envs\\GNNs\\lib\\site-packages\\numpy\\lib\\function_base.py\u001b[0m in \u001b[0;36m_ureduce\u001b[1;34m(a, func, **kwargs)\u001b[0m\n\u001b[0;32m   3562\u001b[0m         \u001b[0mkeepdim\u001b[0m \u001b[1;33m=\u001b[0m \u001b[1;33m(\u001b[0m\u001b[1;36m1\u001b[0m\u001b[1;33m,\u001b[0m\u001b[1;33m)\u001b[0m \u001b[1;33m*\u001b[0m \u001b[0ma\u001b[0m\u001b[1;33m.\u001b[0m\u001b[0mndim\u001b[0m\u001b[1;33m\u001b[0m\u001b[1;33m\u001b[0m\u001b[0m\n\u001b[0;32m   3563\u001b[0m \u001b[1;33m\u001b[0m\u001b[0m\n\u001b[1;32m-> 3564\u001b[1;33m     \u001b[0mr\u001b[0m \u001b[1;33m=\u001b[0m \u001b[0mfunc\u001b[0m\u001b[1;33m(\u001b[0m\u001b[0ma\u001b[0m\u001b[1;33m,\u001b[0m \u001b[1;33m**\u001b[0m\u001b[0mkwargs\u001b[0m\u001b[1;33m)\u001b[0m\u001b[1;33m\u001b[0m\u001b[1;33m\u001b[0m\u001b[0m\n\u001b[0m\u001b[0;32m   3565\u001b[0m     \u001b[1;32mreturn\u001b[0m \u001b[0mr\u001b[0m\u001b[1;33m,\u001b[0m \u001b[0mkeepdim\u001b[0m\u001b[1;33m\u001b[0m\u001b[1;33m\u001b[0m\u001b[0m\n\u001b[0;32m   3566\u001b[0m \u001b[1;33m\u001b[0m\u001b[0m\n",
      "\u001b[1;32mC:\\anaconda\\envs\\GNNs\\lib\\site-packages\\numpy\\lib\\function_base.py\u001b[0m in \u001b[0;36m_median\u001b[1;34m(a, axis, out, overwrite_input)\u001b[0m\n\u001b[0;32m   3714\u001b[0m         \u001b[1;31m# Use mean in odd and even case to coerce data type\u001b[0m\u001b[1;33m\u001b[0m\u001b[1;33m\u001b[0m\u001b[1;33m\u001b[0m\u001b[0m\n\u001b[0;32m   3715\u001b[0m         \u001b[1;31m# and check, use out array.\u001b[0m\u001b[1;33m\u001b[0m\u001b[1;33m\u001b[0m\u001b[1;33m\u001b[0m\u001b[0m\n\u001b[1;32m-> 3716\u001b[1;33m         \u001b[1;32mreturn\u001b[0m \u001b[0mmean\u001b[0m\u001b[1;33m(\u001b[0m\u001b[0mpart\u001b[0m\u001b[1;33m[\u001b[0m\u001b[0mindexer\u001b[0m\u001b[1;33m]\u001b[0m\u001b[1;33m,\u001b[0m \u001b[0maxis\u001b[0m\u001b[1;33m=\u001b[0m\u001b[0maxis\u001b[0m\u001b[1;33m,\u001b[0m \u001b[0mout\u001b[0m\u001b[1;33m=\u001b[0m\u001b[0mout\u001b[0m\u001b[1;33m)\u001b[0m\u001b[1;33m\u001b[0m\u001b[1;33m\u001b[0m\u001b[0m\n\u001b[0m\u001b[0;32m   3717\u001b[0m \u001b[1;33m\u001b[0m\u001b[0m\n\u001b[0;32m   3718\u001b[0m \u001b[1;33m\u001b[0m\u001b[0m\n",
      "\u001b[1;32m<__array_function__ internals>\u001b[0m in \u001b[0;36mmean\u001b[1;34m(*args, **kwargs)\u001b[0m\n",
      "\u001b[1;32mC:\\anaconda\\envs\\GNNs\\lib\\site-packages\\numpy\\core\\fromnumeric.py\u001b[0m in \u001b[0;36mmean\u001b[1;34m(a, axis, dtype, out, keepdims, where)\u001b[0m\n\u001b[0;32m   3439\u001b[0m \u001b[1;33m\u001b[0m\u001b[0m\n\u001b[0;32m   3440\u001b[0m     return _methods._mean(a, axis=axis, dtype=dtype,\n\u001b[1;32m-> 3441\u001b[1;33m                           out=out, **kwargs)\n\u001b[0m\u001b[0;32m   3442\u001b[0m \u001b[1;33m\u001b[0m\u001b[0m\n\u001b[0;32m   3443\u001b[0m \u001b[1;33m\u001b[0m\u001b[0m\n",
      "\u001b[1;32mC:\\anaconda\\envs\\GNNs\\lib\\site-packages\\numpy\\core\\_methods.py\u001b[0m in \u001b[0;36m_mean\u001b[1;34m(a, axis, dtype, out, keepdims, where)\u001b[0m\n\u001b[0;32m    189\u001b[0m             \u001b[0mret\u001b[0m \u001b[1;33m=\u001b[0m \u001b[0mret\u001b[0m\u001b[1;33m.\u001b[0m\u001b[0mdtype\u001b[0m\u001b[1;33m.\u001b[0m\u001b[0mtype\u001b[0m\u001b[1;33m(\u001b[0m\u001b[0mret\u001b[0m \u001b[1;33m/\u001b[0m \u001b[0mrcount\u001b[0m\u001b[1;33m)\u001b[0m\u001b[1;33m\u001b[0m\u001b[1;33m\u001b[0m\u001b[0m\n\u001b[0;32m    190\u001b[0m     \u001b[1;32melse\u001b[0m\u001b[1;33m:\u001b[0m\u001b[1;33m\u001b[0m\u001b[1;33m\u001b[0m\u001b[0m\n\u001b[1;32m--> 191\u001b[1;33m         \u001b[0mret\u001b[0m \u001b[1;33m=\u001b[0m \u001b[0mret\u001b[0m \u001b[1;33m/\u001b[0m \u001b[0mrcount\u001b[0m\u001b[1;33m\u001b[0m\u001b[1;33m\u001b[0m\u001b[0m\n\u001b[0m\u001b[0;32m    192\u001b[0m \u001b[1;33m\u001b[0m\u001b[0m\n\u001b[0;32m    193\u001b[0m     \u001b[1;32mreturn\u001b[0m \u001b[0mret\u001b[0m\u001b[1;33m\u001b[0m\u001b[1;33m\u001b[0m\u001b[0m\n",
      "\u001b[1;31mTypeError\u001b[0m: ufunc 'true_divide' not supported for the input types, and the inputs could not be safely coerced to any supported types according to the casting rule ''safe''"
     ]
    }
   ],
   "source": [
    "for x in datasets:\n",
    "    data = get_our_lossless_results(x)\n",
    "    print(\"{}\\n{}\".format(x, data))\n",
    "    print(\"{}======\".format(x))\n",
    "    for metric in data.columns:\n",
    "        median = np.median(data[metric].values)\n",
    "        \n",
    "        print(\"metric:{}, mediadatan:{}\\n\".format(metric, median) )"
   ]
  },
  {
   "cell_type": "code",
   "execution_count": 35,
   "id": "8040d753-ee7d-4ba6-9d7b-fa036cefdb26",
   "metadata": {},
   "outputs": [
    {
     "name": "stdout",
     "output_type": "stream",
     "text": [
      "jpetstore\n",
      "    BCS[-] ICP[-]  SM[+]  MQ[+] IFN[-]    NED[-]     ClassSizes\n",
      "254  2.261  0.162   0.23  2.131  3.667  0.666667     [ 5 19  2]\n",
      "231  2.036  0.229  0.284  2.794   3.75      0.75  [ 5  3 16  2]\n",
      "238  2.261   0.18  0.264  2.172      4  0.666667     [ 5 19  2]\n",
      "236  2.253  0.125  0.261  2.275  3.333  0.666667     [ 5 19  2]\n",
      "205  2.253  0.127  0.114  1.527  3.333         1     [ 4 21  1]\n",
      "275  1.612  0.168  0.221  1.675      3         1     [22  2  2]\n",
      "241  2.253  0.179  0.263  2.215      4  0.666667     [ 5 19  2]\n",
      "260  1.869  0.022  0.265  1.648      1         1        [24  2]\n",
      "286  1.964  0.166  0.295  2.682      3      0.75  [ 5  2 17  2]\n",
      "234  2.261   0.16  0.238   2.14      4  0.666667     [ 5 19  2]\n",
      "220  2.253  0.125  0.261  2.275  3.333  0.666667     [ 5 19  2]\n",
      "217  2.462  0.327  0.259  2.879      5       0.5  [ 6 13  5  2]\n",
      "215  2.253   0.22  0.228  2.221  4.333  0.333333     [ 7 17  2]\n",
      "241  2.418  0.063  0.222   1.39      2         1        [24  2]\n",
      "218  2.244  0.142  0.266  2.008      3         1     [ 3 21  2]\n",
      "273  2.253  0.125  0.261  2.275  3.333  0.666667     [ 5 19  2]\n",
      "224  1.869  0.105  0.076  1.286    2.5         1        [24  2]\n",
      "240  1.964  0.166  0.295  2.682      3      0.75  [ 5  2 17  2]\n",
      "269  2.101  0.122  0.269  2.341      3         1     [20  4  2]\n",
      "260  2.523  0.331   0.26  2.725   4.75      0.75  [ 4 15  5  2]\n",
      "jpetstore======\n",
      "metric:BCS[-], mediadatan:2.253\n",
      "\n",
      "metric:ICP[-], mediadatan:0.161\n",
      "\n",
      "metric:SM[+], mediadatan:0.261\n",
      "\n",
      "metric:MQ[+], mediadatan:2.218\n",
      "\n",
      "metric:IFN[-], mediadatan:3.333\n",
      "\n",
      "metric:NED[-], mediadatan:0.75\n",
      "\n"
     ]
    },
    {
     "ename": "TypeError",
     "evalue": "ufunc 'true_divide' not supported for the input types, and the inputs could not be safely coerced to any supported types according to the casting rule ''safe''",
     "output_type": "error",
     "traceback": [
      "\u001b[1;31m---------------------------------------------------------------------------\u001b[0m",
      "\u001b[1;31mTypeError\u001b[0m                                 Traceback (most recent call last)",
      "\u001b[1;32m~\\AppData\\Local\\Temp\\ipykernel_27304\\1962787833.py\u001b[0m in \u001b[0;36m<module>\u001b[1;34m\u001b[0m\n\u001b[0;32m      3\u001b[0m \u001b[0mprint\u001b[0m\u001b[1;33m(\u001b[0m\u001b[1;34m\"{}======\"\u001b[0m\u001b[1;33m.\u001b[0m\u001b[0mformat\u001b[0m\u001b[1;33m(\u001b[0m\u001b[0mx\u001b[0m\u001b[1;33m)\u001b[0m\u001b[1;33m)\u001b[0m\u001b[1;33m\u001b[0m\u001b[1;33m\u001b[0m\u001b[0m\n\u001b[0;32m      4\u001b[0m \u001b[1;32mfor\u001b[0m \u001b[0mmetric\u001b[0m \u001b[1;32min\u001b[0m \u001b[0mdata\u001b[0m\u001b[1;33m.\u001b[0m\u001b[0mcolumns\u001b[0m\u001b[1;33m:\u001b[0m\u001b[1;33m\u001b[0m\u001b[1;33m\u001b[0m\u001b[0m\n\u001b[1;32m----> 5\u001b[1;33m     \u001b[0mmedian\u001b[0m \u001b[1;33m=\u001b[0m \u001b[0mnp\u001b[0m\u001b[1;33m.\u001b[0m\u001b[0mmedian\u001b[0m\u001b[1;33m(\u001b[0m\u001b[0mdata\u001b[0m\u001b[1;33m[\u001b[0m\u001b[0mmetric\u001b[0m\u001b[1;33m]\u001b[0m\u001b[1;33m.\u001b[0m\u001b[0mvalues\u001b[0m\u001b[1;33m)\u001b[0m\u001b[1;33m\u001b[0m\u001b[1;33m\u001b[0m\u001b[0m\n\u001b[0m\u001b[0;32m      6\u001b[0m     \u001b[0mprint\u001b[0m\u001b[1;33m(\u001b[0m\u001b[1;34m\"metric:{}, mediadatan:{}\\n\"\u001b[0m\u001b[1;33m.\u001b[0m\u001b[0mformat\u001b[0m\u001b[1;33m(\u001b[0m\u001b[0mmetric\u001b[0m\u001b[1;33m,\u001b[0m \u001b[0mmedian\u001b[0m\u001b[1;33m)\u001b[0m \u001b[1;33m)\u001b[0m\u001b[1;33m\u001b[0m\u001b[1;33m\u001b[0m\u001b[0m\n",
      "\u001b[1;32m<__array_function__ internals>\u001b[0m in \u001b[0;36mmedian\u001b[1;34m(*args, **kwargs)\u001b[0m\n",
      "\u001b[1;32mC:\\anaconda\\envs\\GNNs\\lib\\site-packages\\numpy\\lib\\function_base.py\u001b[0m in \u001b[0;36mmedian\u001b[1;34m(a, axis, out, overwrite_input, keepdims)\u001b[0m\n\u001b[0;32m   3654\u001b[0m     \"\"\"\n\u001b[0;32m   3655\u001b[0m     r, k = _ureduce(a, func=_median, axis=axis, out=out,\n\u001b[1;32m-> 3656\u001b[1;33m                     overwrite_input=overwrite_input)\n\u001b[0m\u001b[0;32m   3657\u001b[0m     \u001b[1;32mif\u001b[0m \u001b[0mkeepdims\u001b[0m\u001b[1;33m:\u001b[0m\u001b[1;33m\u001b[0m\u001b[1;33m\u001b[0m\u001b[0m\n\u001b[0;32m   3658\u001b[0m         \u001b[1;32mreturn\u001b[0m \u001b[0mr\u001b[0m\u001b[1;33m.\u001b[0m\u001b[0mreshape\u001b[0m\u001b[1;33m(\u001b[0m\u001b[0mk\u001b[0m\u001b[1;33m)\u001b[0m\u001b[1;33m\u001b[0m\u001b[1;33m\u001b[0m\u001b[0m\n",
      "\u001b[1;32mC:\\anaconda\\envs\\GNNs\\lib\\site-packages\\numpy\\lib\\function_base.py\u001b[0m in \u001b[0;36m_ureduce\u001b[1;34m(a, func, **kwargs)\u001b[0m\n\u001b[0;32m   3562\u001b[0m         \u001b[0mkeepdim\u001b[0m \u001b[1;33m=\u001b[0m \u001b[1;33m(\u001b[0m\u001b[1;36m1\u001b[0m\u001b[1;33m,\u001b[0m\u001b[1;33m)\u001b[0m \u001b[1;33m*\u001b[0m \u001b[0ma\u001b[0m\u001b[1;33m.\u001b[0m\u001b[0mndim\u001b[0m\u001b[1;33m\u001b[0m\u001b[1;33m\u001b[0m\u001b[0m\n\u001b[0;32m   3563\u001b[0m \u001b[1;33m\u001b[0m\u001b[0m\n\u001b[1;32m-> 3564\u001b[1;33m     \u001b[0mr\u001b[0m \u001b[1;33m=\u001b[0m \u001b[0mfunc\u001b[0m\u001b[1;33m(\u001b[0m\u001b[0ma\u001b[0m\u001b[1;33m,\u001b[0m \u001b[1;33m**\u001b[0m\u001b[0mkwargs\u001b[0m\u001b[1;33m)\u001b[0m\u001b[1;33m\u001b[0m\u001b[1;33m\u001b[0m\u001b[0m\n\u001b[0m\u001b[0;32m   3565\u001b[0m     \u001b[1;32mreturn\u001b[0m \u001b[0mr\u001b[0m\u001b[1;33m,\u001b[0m \u001b[0mkeepdim\u001b[0m\u001b[1;33m\u001b[0m\u001b[1;33m\u001b[0m\u001b[0m\n\u001b[0;32m   3566\u001b[0m \u001b[1;33m\u001b[0m\u001b[0m\n",
      "\u001b[1;32mC:\\anaconda\\envs\\GNNs\\lib\\site-packages\\numpy\\lib\\function_base.py\u001b[0m in \u001b[0;36m_median\u001b[1;34m(a, axis, out, overwrite_input)\u001b[0m\n\u001b[0;32m   3714\u001b[0m         \u001b[1;31m# Use mean in odd and even case to coerce data type\u001b[0m\u001b[1;33m\u001b[0m\u001b[1;33m\u001b[0m\u001b[1;33m\u001b[0m\u001b[0m\n\u001b[0;32m   3715\u001b[0m         \u001b[1;31m# and check, use out array.\u001b[0m\u001b[1;33m\u001b[0m\u001b[1;33m\u001b[0m\u001b[1;33m\u001b[0m\u001b[0m\n\u001b[1;32m-> 3716\u001b[1;33m         \u001b[1;32mreturn\u001b[0m \u001b[0mmean\u001b[0m\u001b[1;33m(\u001b[0m\u001b[0mpart\u001b[0m\u001b[1;33m[\u001b[0m\u001b[0mindexer\u001b[0m\u001b[1;33m]\u001b[0m\u001b[1;33m,\u001b[0m \u001b[0maxis\u001b[0m\u001b[1;33m=\u001b[0m\u001b[0maxis\u001b[0m\u001b[1;33m,\u001b[0m \u001b[0mout\u001b[0m\u001b[1;33m=\u001b[0m\u001b[0mout\u001b[0m\u001b[1;33m)\u001b[0m\u001b[1;33m\u001b[0m\u001b[1;33m\u001b[0m\u001b[0m\n\u001b[0m\u001b[0;32m   3717\u001b[0m \u001b[1;33m\u001b[0m\u001b[0m\n\u001b[0;32m   3718\u001b[0m \u001b[1;33m\u001b[0m\u001b[0m\n",
      "\u001b[1;32m<__array_function__ internals>\u001b[0m in \u001b[0;36mmean\u001b[1;34m(*args, **kwargs)\u001b[0m\n",
      "\u001b[1;32mC:\\anaconda\\envs\\GNNs\\lib\\site-packages\\numpy\\core\\fromnumeric.py\u001b[0m in \u001b[0;36mmean\u001b[1;34m(a, axis, dtype, out, keepdims, where)\u001b[0m\n\u001b[0;32m   3439\u001b[0m \u001b[1;33m\u001b[0m\u001b[0m\n\u001b[0;32m   3440\u001b[0m     return _methods._mean(a, axis=axis, dtype=dtype,\n\u001b[1;32m-> 3441\u001b[1;33m                           out=out, **kwargs)\n\u001b[0m\u001b[0;32m   3442\u001b[0m \u001b[1;33m\u001b[0m\u001b[0m\n\u001b[0;32m   3443\u001b[0m \u001b[1;33m\u001b[0m\u001b[0m\n",
      "\u001b[1;32mC:\\anaconda\\envs\\GNNs\\lib\\site-packages\\numpy\\core\\_methods.py\u001b[0m in \u001b[0;36m_mean\u001b[1;34m(a, axis, dtype, out, keepdims, where)\u001b[0m\n\u001b[0;32m    189\u001b[0m             \u001b[0mret\u001b[0m \u001b[1;33m=\u001b[0m \u001b[0mret\u001b[0m\u001b[1;33m.\u001b[0m\u001b[0mdtype\u001b[0m\u001b[1;33m.\u001b[0m\u001b[0mtype\u001b[0m\u001b[1;33m(\u001b[0m\u001b[0mret\u001b[0m \u001b[1;33m/\u001b[0m \u001b[0mrcount\u001b[0m\u001b[1;33m)\u001b[0m\u001b[1;33m\u001b[0m\u001b[1;33m\u001b[0m\u001b[0m\n\u001b[0;32m    190\u001b[0m     \u001b[1;32melse\u001b[0m\u001b[1;33m:\u001b[0m\u001b[1;33m\u001b[0m\u001b[1;33m\u001b[0m\u001b[0m\n\u001b[1;32m--> 191\u001b[1;33m         \u001b[0mret\u001b[0m \u001b[1;33m=\u001b[0m \u001b[0mret\u001b[0m \u001b[1;33m/\u001b[0m \u001b[0mrcount\u001b[0m\u001b[1;33m\u001b[0m\u001b[1;33m\u001b[0m\u001b[0m\n\u001b[0m\u001b[0;32m    192\u001b[0m \u001b[1;33m\u001b[0m\u001b[0m\n\u001b[0;32m    193\u001b[0m     \u001b[1;32mreturn\u001b[0m \u001b[0mret\u001b[0m\u001b[1;33m\u001b[0m\u001b[1;33m\u001b[0m\u001b[0m\n",
      "\u001b[1;31mTypeError\u001b[0m: ufunc 'true_divide' not supported for the input types, and the inputs could not be safely coerced to any supported types according to the casting rule ''safe''"
     ]
    }
   ],
   "source": [
    "\n",
    "data = get_our_lossless_results('plants')\n",
    "print(\"{}\\n{}\".format('plant', data))\n",
    "print(\"{}======\".format('plants'))\n",
    "for metric in data.columns:\n",
    "    median = np.median(data[metric].values)        \n",
    "    print(\"metric:{}, mediadatan:{}\\n\".format(metric, median) )"
   ]
  },
  {
   "cell_type": "code",
   "execution_count": 32,
   "id": "27c1c2f4-62f5-4d74-9e7f-e941aa9ac5e2",
   "metadata": {},
   "outputs": [
    {
     "name": "stdout",
     "output_type": "stream",
     "text": [
      "   BCS[-] ICP[-]  SM[+]  MQ[+] IFN[-] NED[-]  ClassSizes Entropy[+]  \\\n",
      "68  1.843   0.09  0.237  1.869  2.333      1  [21  2  3]   0.618977   \n",
      "90  1.869  0.022  0.265  1.648      1      1     [24  2]   0.271189   \n",
      "86  2.418  0.063  0.222   1.39      2      1     [24  2]   0.271189   \n",
      "87  1.246  0.127  0.237  1.932  2.333      1  [22  2  2]   0.535961   \n",
      "27  2.418  0.063  0.222   1.39      2      1     [24  2]   0.271189   \n",
      "45  1.869  0.022  0.265  1.648      1      1     [24  2]   0.271189   \n",
      "29  1.869  0.022  0.265  1.648      1      1     [24  2]   0.271189   \n",
      "85  1.869  0.022  0.265  1.648      1      1     [24  2]   0.271189   \n",
      "8   1.869  0.022  0.265  1.648      1      1     [24  2]   0.271189   \n",
      "15  1.869  0.022  0.265  1.648      1      1     [24  2]   0.271189   \n",
      "77  1.869  0.022  0.265  1.648      1      1     [24  2]   0.271189   \n",
      "1   1.869  0.022  0.265  1.648      1      1     [24  2]   0.271189   \n",
      "86  1.612  0.132  0.273  1.858  2.333      1  [21  2  3]   0.618977   \n",
      "1   1.869  0.022  0.265  1.648      1      1     [24  2]   0.271189   \n",
      "56  1.612  0.085  0.329  2.036      2      1  [22  2  2]   0.535961   \n",
      "32  1.869  0.022  0.265  1.648      1      1     [24  2]   0.271189   \n",
      "15  1.869  0.022  0.265  1.648      1      1     [24  2]   0.271189   \n",
      "30  1.246  0.027  0.178  1.648      1      1  [23  2  1]   0.431071   \n",
      "37  1.612  0.085  0.329  2.036      2      1  [22  2  2]   0.535961   \n",
      "66  1.869  0.022  0.265  1.648      1      1     [24  2]   0.271189   \n",
      "10  1.869  0.022  0.265  1.648      1      1     [24  2]   0.271189   \n",
      "\n",
      "   WC_time[-]  Loss[-]  \n",
      "68      44.93 -0.12149  \n",
      "90      89.01 -0.23365  \n",
      "86       74.9 -0.06594  \n",
      "87      48.84 -0.14419  \n",
      "27      76.79 -0.06594  \n",
      "45     102.84 -0.23365  \n",
      "29      59.05 -0.23365  \n",
      "85     118.39 -0.23365  \n",
      "8        92.4 -0.23365  \n",
      "15      92.42 -0.23365  \n",
      "77      98.09 -0.23365  \n",
      "1      112.74 -0.23365  \n",
      "86      35.06 -0.16271  \n",
      "1      136.92 -0.23365  \n",
      "56      90.47 -0.30323  \n",
      "32      39.73 -0.23365  \n",
      "15      62.92 -0.23365  \n",
      "30      45.45 -0.14566  \n",
      "37      56.78 -0.30323  \n",
      "66      83.97 -0.23365  \n",
      "10      69.78 -0.23365  \n",
      "plants======\n",
      "metric:BCS[-], mediadatan:1.869\n",
      "\n",
      "metric:ICP[-], mediadatan:0.022000000000000002\n",
      "\n",
      "metric:SM[+], mediadatan:0.265\n",
      "\n",
      "metric:MQ[+], mediadatan:1.6480000000000001\n",
      "\n",
      "metric:IFN[-], mediadatan:1.0\n",
      "\n",
      "metric:NED[-], mediadatan:1.0\n",
      "\n"
     ]
    },
    {
     "ename": "TypeError",
     "evalue": "ufunc 'true_divide' not supported for the input types, and the inputs could not be safely coerced to any supported types according to the casting rule ''safe''",
     "output_type": "error",
     "traceback": [
      "\u001b[1;31m---------------------------------------------------------------------------\u001b[0m",
      "\u001b[1;31mTypeError\u001b[0m                                 Traceback (most recent call last)",
      "\u001b[1;32m~\\AppData\\Local\\Temp\\ipykernel_27304\\820983139.py\u001b[0m in \u001b[0;36m<module>\u001b[1;34m\u001b[0m\n\u001b[0;32m     10\u001b[0m \u001b[0mprint\u001b[0m\u001b[1;33m(\u001b[0m\u001b[1;34m\"{}======\"\u001b[0m\u001b[1;33m.\u001b[0m\u001b[0mformat\u001b[0m\u001b[1;33m(\u001b[0m\u001b[1;34m'plants'\u001b[0m\u001b[1;33m)\u001b[0m\u001b[1;33m)\u001b[0m\u001b[1;33m\u001b[0m\u001b[1;33m\u001b[0m\u001b[0m\n\u001b[0;32m     11\u001b[0m \u001b[1;32mfor\u001b[0m \u001b[0mmetric\u001b[0m \u001b[1;32min\u001b[0m \u001b[0mdata\u001b[0m\u001b[1;33m.\u001b[0m\u001b[0mcolumns\u001b[0m\u001b[1;33m:\u001b[0m\u001b[1;33m\u001b[0m\u001b[1;33m\u001b[0m\u001b[0m\n\u001b[1;32m---> 12\u001b[1;33m     \u001b[0mmedian\u001b[0m \u001b[1;33m=\u001b[0m \u001b[0mnp\u001b[0m\u001b[1;33m.\u001b[0m\u001b[0mmedian\u001b[0m\u001b[1;33m(\u001b[0m\u001b[0mdata\u001b[0m\u001b[1;33m[\u001b[0m\u001b[0mmetric\u001b[0m\u001b[1;33m]\u001b[0m\u001b[1;33m.\u001b[0m\u001b[0mvalues\u001b[0m\u001b[1;33m)\u001b[0m\u001b[1;33m\u001b[0m\u001b[1;33m\u001b[0m\u001b[0m\n\u001b[0m\u001b[0;32m     13\u001b[0m     \u001b[0mprint\u001b[0m\u001b[1;33m(\u001b[0m\u001b[1;34m\"metric:{}, mediadatan:{}\\n\"\u001b[0m\u001b[1;33m.\u001b[0m\u001b[0mformat\u001b[0m\u001b[1;33m(\u001b[0m\u001b[0mmetric\u001b[0m\u001b[1;33m,\u001b[0m \u001b[0mmedian\u001b[0m\u001b[1;33m)\u001b[0m \u001b[1;33m)\u001b[0m\u001b[1;33m\u001b[0m\u001b[1;33m\u001b[0m\u001b[0m\n",
      "\u001b[1;32m<__array_function__ internals>\u001b[0m in \u001b[0;36mmedian\u001b[1;34m(*args, **kwargs)\u001b[0m\n",
      "\u001b[1;32mC:\\anaconda\\envs\\GNNs\\lib\\site-packages\\numpy\\lib\\function_base.py\u001b[0m in \u001b[0;36mmedian\u001b[1;34m(a, axis, out, overwrite_input, keepdims)\u001b[0m\n\u001b[0;32m   3654\u001b[0m     \"\"\"\n\u001b[0;32m   3655\u001b[0m     r, k = _ureduce(a, func=_median, axis=axis, out=out,\n\u001b[1;32m-> 3656\u001b[1;33m                     overwrite_input=overwrite_input)\n\u001b[0m\u001b[0;32m   3657\u001b[0m     \u001b[1;32mif\u001b[0m \u001b[0mkeepdims\u001b[0m\u001b[1;33m:\u001b[0m\u001b[1;33m\u001b[0m\u001b[1;33m\u001b[0m\u001b[0m\n\u001b[0;32m   3658\u001b[0m         \u001b[1;32mreturn\u001b[0m \u001b[0mr\u001b[0m\u001b[1;33m.\u001b[0m\u001b[0mreshape\u001b[0m\u001b[1;33m(\u001b[0m\u001b[0mk\u001b[0m\u001b[1;33m)\u001b[0m\u001b[1;33m\u001b[0m\u001b[1;33m\u001b[0m\u001b[0m\n",
      "\u001b[1;32mC:\\anaconda\\envs\\GNNs\\lib\\site-packages\\numpy\\lib\\function_base.py\u001b[0m in \u001b[0;36m_ureduce\u001b[1;34m(a, func, **kwargs)\u001b[0m\n\u001b[0;32m   3562\u001b[0m         \u001b[0mkeepdim\u001b[0m \u001b[1;33m=\u001b[0m \u001b[1;33m(\u001b[0m\u001b[1;36m1\u001b[0m\u001b[1;33m,\u001b[0m\u001b[1;33m)\u001b[0m \u001b[1;33m*\u001b[0m \u001b[0ma\u001b[0m\u001b[1;33m.\u001b[0m\u001b[0mndim\u001b[0m\u001b[1;33m\u001b[0m\u001b[1;33m\u001b[0m\u001b[0m\n\u001b[0;32m   3563\u001b[0m \u001b[1;33m\u001b[0m\u001b[0m\n\u001b[1;32m-> 3564\u001b[1;33m     \u001b[0mr\u001b[0m \u001b[1;33m=\u001b[0m \u001b[0mfunc\u001b[0m\u001b[1;33m(\u001b[0m\u001b[0ma\u001b[0m\u001b[1;33m,\u001b[0m \u001b[1;33m**\u001b[0m\u001b[0mkwargs\u001b[0m\u001b[1;33m)\u001b[0m\u001b[1;33m\u001b[0m\u001b[1;33m\u001b[0m\u001b[0m\n\u001b[0m\u001b[0;32m   3565\u001b[0m     \u001b[1;32mreturn\u001b[0m \u001b[0mr\u001b[0m\u001b[1;33m,\u001b[0m \u001b[0mkeepdim\u001b[0m\u001b[1;33m\u001b[0m\u001b[1;33m\u001b[0m\u001b[0m\n\u001b[0;32m   3566\u001b[0m \u001b[1;33m\u001b[0m\u001b[0m\n",
      "\u001b[1;32mC:\\anaconda\\envs\\GNNs\\lib\\site-packages\\numpy\\lib\\function_base.py\u001b[0m in \u001b[0;36m_median\u001b[1;34m(a, axis, out, overwrite_input)\u001b[0m\n\u001b[0;32m   3714\u001b[0m         \u001b[1;31m# Use mean in odd and even case to coerce data type\u001b[0m\u001b[1;33m\u001b[0m\u001b[1;33m\u001b[0m\u001b[1;33m\u001b[0m\u001b[0m\n\u001b[0;32m   3715\u001b[0m         \u001b[1;31m# and check, use out array.\u001b[0m\u001b[1;33m\u001b[0m\u001b[1;33m\u001b[0m\u001b[1;33m\u001b[0m\u001b[0m\n\u001b[1;32m-> 3716\u001b[1;33m         \u001b[1;32mreturn\u001b[0m \u001b[0mmean\u001b[0m\u001b[1;33m(\u001b[0m\u001b[0mpart\u001b[0m\u001b[1;33m[\u001b[0m\u001b[0mindexer\u001b[0m\u001b[1;33m]\u001b[0m\u001b[1;33m,\u001b[0m \u001b[0maxis\u001b[0m\u001b[1;33m=\u001b[0m\u001b[0maxis\u001b[0m\u001b[1;33m,\u001b[0m \u001b[0mout\u001b[0m\u001b[1;33m=\u001b[0m\u001b[0mout\u001b[0m\u001b[1;33m)\u001b[0m\u001b[1;33m\u001b[0m\u001b[1;33m\u001b[0m\u001b[0m\n\u001b[0m\u001b[0;32m   3717\u001b[0m \u001b[1;33m\u001b[0m\u001b[0m\n\u001b[0;32m   3718\u001b[0m \u001b[1;33m\u001b[0m\u001b[0m\n",
      "\u001b[1;32m<__array_function__ internals>\u001b[0m in \u001b[0;36mmean\u001b[1;34m(*args, **kwargs)\u001b[0m\n",
      "\u001b[1;32mC:\\anaconda\\envs\\GNNs\\lib\\site-packages\\numpy\\core\\fromnumeric.py\u001b[0m in \u001b[0;36mmean\u001b[1;34m(a, axis, dtype, out, keepdims, where)\u001b[0m\n\u001b[0;32m   3439\u001b[0m \u001b[1;33m\u001b[0m\u001b[0m\n\u001b[0;32m   3440\u001b[0m     return _methods._mean(a, axis=axis, dtype=dtype,\n\u001b[1;32m-> 3441\u001b[1;33m                           out=out, **kwargs)\n\u001b[0m\u001b[0;32m   3442\u001b[0m \u001b[1;33m\u001b[0m\u001b[0m\n\u001b[0;32m   3443\u001b[0m \u001b[1;33m\u001b[0m\u001b[0m\n",
      "\u001b[1;32mC:\\anaconda\\envs\\GNNs\\lib\\site-packages\\numpy\\core\\_methods.py\u001b[0m in \u001b[0;36m_mean\u001b[1;34m(a, axis, dtype, out, keepdims, where)\u001b[0m\n\u001b[0;32m    189\u001b[0m             \u001b[0mret\u001b[0m \u001b[1;33m=\u001b[0m \u001b[0mret\u001b[0m\u001b[1;33m.\u001b[0m\u001b[0mdtype\u001b[0m\u001b[1;33m.\u001b[0m\u001b[0mtype\u001b[0m\u001b[1;33m(\u001b[0m\u001b[0mret\u001b[0m \u001b[1;33m/\u001b[0m \u001b[0mrcount\u001b[0m\u001b[1;33m)\u001b[0m\u001b[1;33m\u001b[0m\u001b[1;33m\u001b[0m\u001b[0m\n\u001b[0;32m    190\u001b[0m     \u001b[1;32melse\u001b[0m\u001b[1;33m:\u001b[0m\u001b[1;33m\u001b[0m\u001b[1;33m\u001b[0m\u001b[0m\n\u001b[1;32m--> 191\u001b[1;33m         \u001b[0mret\u001b[0m \u001b[1;33m=\u001b[0m \u001b[0mret\u001b[0m \u001b[1;33m/\u001b[0m \u001b[0mrcount\u001b[0m\u001b[1;33m\u001b[0m\u001b[1;33m\u001b[0m\u001b[0m\n\u001b[0m\u001b[0;32m    192\u001b[0m \u001b[1;33m\u001b[0m\u001b[0m\n\u001b[0;32m    193\u001b[0m     \u001b[1;32mreturn\u001b[0m \u001b[0mret\u001b[0m\u001b[1;33m\u001b[0m\u001b[1;33m\u001b[0m\u001b[0m\n",
      "\u001b[1;31mTypeError\u001b[0m: ufunc 'true_divide' not supported for the input types, and the inputs could not be safely coerced to any supported types according to the casting rule ''safe''"
     ]
    }
   ],
   "source": [
    "def get_our_lossless_results1(dataset: str):\n",
    "    path = \"./additional-files/output/deeply-lossless/GCN/plants/\"\n",
    "    result = {'daytrader': []}\n",
    "    for file in os.listdir(path):\n",
    "        df = pd.read_csv(path + file)\n",
    "        result['daytrader'].append(df[df['Loss[-]']==df['Loss[-]'].min()].iloc[0,2:])\n",
    "    return pd.concat(result[dataset], axis=1).T\n",
    "data = get_our_lossless_results1('daytrader')\n",
    "print(data)\n",
    "print(\"{}======\".format('plants'))\n",
    "for metric in data.columns:\n",
    "    median = np.median(data[metric].values) \n",
    "    print(\"metric:{}, mediadatan:{}\\n\".format(metric, median) )"
   ]
  },
  {
   "cell_type": "code",
   "execution_count": 30,
   "id": "be801a28-8deb-4753-a55f-8882cc51cc28",
   "metadata": {},
   "outputs": [
    {
     "data": {
      "text/plain": [
       "['slurm-1652925074.0449772.csv',\n",
       " 'slurm-1652985223.456057.csv',\n",
       " 'slurm-1652985432.7712965.csv',\n",
       " 'slurm-1652986075.84803.csv',\n",
       " 'slurm-1652986118.273397.csv',\n",
       " 'slurm-1653051499.0631835.csv',\n",
       " 'slurm-1653051680.4540093.csv',\n",
       " 'slurm-1653051703.561562.csv',\n",
       " 'slurm-1653051956.3299108.csv',\n",
       " 'slurm-1653053969.8470347.csv',\n",
       " 'slurm-1653054224.540219.csv',\n",
       " 'slurm-1653159996.849018.csv',\n",
       " 'slurm-1653162684.8873417.csv',\n",
       " 'slurm-1653163010.2083352.csv',\n",
       " 'slurm-1653163091.1463954.csv',\n",
       " 'slurm-1653163265.6380656.csv']"
      ]
     },
     "execution_count": 30,
     "metadata": {},
     "output_type": "execute_result"
    }
   ],
   "source": [
    "import os\n",
    "path = \"./additional-files/output/deeply-lossless/GAT/\"\n",
    "os.listdir(path)"
   ]
  },
  {
   "cell_type": "code",
   "execution_count": 7,
   "id": "deaf2147-3b6a-4fe4-afd9-13974f0d41c0",
   "metadata": {},
   "outputs": [
    {
     "data": {
      "text/plain": [
       "['slurm-1652925074.0449772.csv',\n",
       " 'slurm-1652985223.456057.csv',\n",
       " 'slurm-1652985432.7712965.csv',\n",
       " 'slurm-1652986075.84803.csv',\n",
       " 'slurm-1652986118.273397.csv',\n",
       " 'slurm-1653051499.0631835.csv',\n",
       " 'slurm-1653051680.4540093.csv',\n",
       " 'slurm-1653051703.561562.csv',\n",
       " 'slurm-1653051956.3299108.csv',\n",
       " 'slurm-1653053969.8470347.csv',\n",
       " 'slurm-1653054224.540219.csv',\n",
       " 'slurm-1653159996.849018.csv',\n",
       " 'slurm-1653162684.8873417.csv',\n",
       " 'slurm-1653163010.2083352.csv',\n",
       " 'slurm-1653163091.1463954.csv',\n",
       " 'slurm-1653163265.6380656.csv',\n",
       " 'slurm-1653304340.695216.csv',\n",
       " 'slurm-1653394451.2441745.csv',\n",
       " 'slurm-1653394684.884719.csv',\n",
       " 'slurm-1653394749.1559734.csv',\n",
       " 'slurm-1653394782.3825285.csv',\n",
       " 'slurm-1653394808.7825456.csv',\n",
       " 'slurm-1653394917.024569.csv',\n",
       " 'slurm-1653394975.2731335.csv']"
      ]
     },
     "execution_count": 7,
     "metadata": {},
     "output_type": "execute_result"
    }
   ],
   "source": [
    "path = \"./additional-files/output/deeply-lossless/GAT/\"\n",
    "os.listdir(path)"
   ]
  },
  {
   "cell_type": "code",
   "execution_count": null,
   "id": "8d6f7f82-1d35-4117-ba08-535e0ae0cdad",
   "metadata": {},
   "outputs": [],
   "source": []
  }
 ],
 "metadata": {
  "kernelspec": {
   "display_name": "Python 3 (ipykernel)",
   "language": "python",
   "name": "python3"
  },
  "language_info": {
   "codemirror_mode": {
    "name": "ipython",
    "version": 3
   },
   "file_extension": ".py",
   "mimetype": "text/x-python",
   "name": "python",
   "nbconvert_exporter": "python",
   "pygments_lexer": "ipython3",
   "version": "3.7.13"
  }
 },
 "nbformat": 4,
 "nbformat_minor": 5
}
